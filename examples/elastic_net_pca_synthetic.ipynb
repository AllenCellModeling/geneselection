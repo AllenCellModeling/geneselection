{
 "cells": [
  {
   "cell_type": "code",
   "execution_count": null,
   "metadata": {},
   "outputs": [],
   "source": [
    "import numpy as np\n",
    "import pandas as pd\n",
    "import geneselection.solvers.enet_pca as epca\n",
    "from geneselection.datasets.correlated_random_variables import hub_spoke_data"
   ]
  },
  {
   "cell_type": "code",
   "execution_count": null,
   "metadata": {},
   "outputs": [],
   "source": [
    "params = dict(lambda_path = np.geomspace(1, 0.01, num=100),    # lambda path\n",
    "              alpha = 0.9,                                     # fraction of regularization devoted to L1 prenalty\n",
    "              n_pcs = 2,                                       # number of pcs to predit with multitask elastic net\n",
    "              pc_weights = \"scaled\",                           # relative importance in predicting pcs (scaled = all selected pcs are equally important)\n",
    "              n_bootstraps = 100,                              # number of bootstrap replicates\n",
    "              n_processes = 25,                                # number of parallel processes to use\n",
    "              thresholds = np.linspace(0.01, 1, num=100))      # selection thresholds for including genes"
   ]
  },
  {
   "cell_type": "code",
   "execution_count": null,
   "metadata": {},
   "outputs": [],
   "source": [
    "adata = hub_spoke_data(n_samples=20000,\n",
    "                       n_groups=50,\n",
    "                       group_size=20,\n",
    "                       n_singeltons=5000,\n",
    "                       diagonal_weight=1/np.e,\n",
    "                       off_diagonal_weight=1)\n",
    "adata.X = adata.X.astype(np.float64)\n",
    "adata.var.index = adata.var.index.astype(str)"
   ]
  },
  {
   "cell_type": "code",
   "execution_count": null,
   "metadata": {},
   "outputs": [],
   "source": [
    "boot_results = epca.parallel_runs(adata,\n",
    "                                  n_processes=params[\"n_processes\"],\n",
    "                                  n_bootstraps=params[\"n_bootstraps\"],\n",
    "                                  n_pcs=params[\"n_pcs\"],\n",
    "                                  alpha=params[\"alpha\"],\n",
    "                                  lambda_path=params[\"lambda_path\"],\n",
    "                                  pc_weights=params[\"pc_weights\"])"
   ]
  },
  {
   "cell_type": "code",
   "execution_count": null,
   "metadata": {},
   "outputs": [],
   "source": [
    "epca.thresh_lambda_plot(boot_results,\n",
    "                        adata,\n",
    "                        thresholds=params[\"thresholds\"],\n",
    "                        lambdas=params[\"lambda_path\"])"
   ]
  },
  {
   "cell_type": "code",
   "execution_count": null,
   "metadata": {},
   "outputs": [],
   "source": [
    "epca.hub_persistence_plot(adata, boot_results)"
   ]
  },
  {
   "cell_type": "code",
   "execution_count": null,
   "metadata": {},
   "outputs": [],
   "source": [
    "residual_variance_genes = epca.get_selected_genes(boot_results,\n",
    "                                                  adata,\n",
    "                                                  lambda_index=60,\n",
    "                                                  selection_threshold_index=60,\n",
    "                                                  thresholds=params[\"thresholds\"])"
   ]
  },
  {
   "cell_type": "code",
   "execution_count": null,
   "metadata": {},
   "outputs": [],
   "source": [
    "adata.var.loc[residual_variance_genes]"
   ]
  },
  {
   "cell_type": "code",
   "execution_count": null,
   "metadata": {},
   "outputs": [],
   "source": []
  }
 ],
 "metadata": {
  "kernelspec": {
   "display_name": "Python 3",
   "language": "python",
   "name": "python3"
  },
  "language_info": {
   "codemirror_mode": {
    "name": "ipython",
    "version": 3
   },
   "file_extension": ".py",
   "mimetype": "text/x-python",
   "name": "python",
   "nbconvert_exporter": "python",
   "pygments_lexer": "ipython3",
   "version": "3.6.7"
  }
 },
 "nbformat": 4,
 "nbformat_minor": 2
}
