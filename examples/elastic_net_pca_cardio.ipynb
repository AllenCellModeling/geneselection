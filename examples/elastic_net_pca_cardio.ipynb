{
 "cells": [
  {
   "cell_type": "code",
   "execution_count": null,
   "metadata": {},
   "outputs": [],
   "source": [
    "import numpy as np\n",
    "import pandas as pd\n",
    "import geneselection.solvers.elasticnet.pca as epca\n",
    "import geneselection.solvers.elasticnet.utils as eutils\n",
    "import geneselection.datasets.scrnaseq_cardio_20181129 as cardio"
   ]
  },
  {
   "cell_type": "code",
   "execution_count": null,
   "metadata": {},
   "outputs": [],
   "source": [
    "df_gene_sel = pd.read_csv(\"../results/elastic_net_gene_selection/continuous_regression/intersect_protocol/selected_genes_8_levels_sparsity_thresh_0.5_alpha_0.9.csv\")\n",
    "unpenalized_genes = eutils.get_gene_set(df_gene_sel, num_genes=25)"
   ]
  },
  {
   "cell_type": "code",
   "execution_count": null,
   "metadata": {},
   "outputs": [],
   "source": [
    "params = dict(days = \"all\",                                    # subset of days to run on\n",
    "              unpenalized_genes = unpenalized_genes,           # number of genes that are predictive of diff day to use (unpenalized) before finding ther genes that are predicitve of the rest of the data\n",
    "              noise = 0.01,                                    # gaussian noise added to scaled X\n",
    "              lambda_path = np.geomspace(100, 0.01, num=100),  # lambda path\n",
    "              alpha = 0.9,                                     # fraction of regularization devoted to L1 prenalty\n",
    "              n_pcs = 10,                                      # number of pcs to predit with multitask elastic net\n",
    "              pc_weights = \"scaled\",                           # relative importance in predicting pcs (scaled = all selected pcs are equally important)\n",
    "              n_bootstraps = 100,                              # number of bootstrap replicates\n",
    "              n_processes = 25,                                # number of parallel processes to use\n",
    "              thresholds = np.linspace(0.01, 1, num=100))      # selection thresholds for including genes"
   ]
  },
  {
   "cell_type": "code",
   "execution_count": null,
   "metadata": {},
   "outputs": [],
   "source": [
    "adata = cardio.load()\n",
    "adata = eutils.preprocess_cardio(adata)\n",
    "adata = eutils.subset_cardio(adata, days=params[\"days\"])"
   ]
  },
  {
   "cell_type": "code",
   "execution_count": null,
   "metadata": {},
   "outputs": [],
   "source": [
    "boot_results = epca.parallel_runs(adata,\n",
    "                                  n_processes=params[\"n_processes\"],\n",
    "                                  n_bootstraps=params[\"n_bootstraps\"],\n",
    "                                  noise=params[\"noise\"],\n",
    "                                  n_pcs=params[\"n_pcs\"],\n",
    "                                  alpha=params[\"alpha\"],\n",
    "                                  lambda_path=params[\"lambda_path\"],\n",
    "                                  pc_weights=params[\"pc_weights\"],\n",
    "                                  unpenalized_genes=params[\"unpenalized_genes\"])"
   ]
  },
  {
   "cell_type": "code",
   "execution_count": null,
   "metadata": {},
   "outputs": [],
   "source": [
    "eutils.thresh_lambda_plot(boot_results,\n",
    "                          adata,\n",
    "                          thresholds=params[\"thresholds\"],\n",
    "                          lambdas=params[\"lambda_path\"],\n",
    "                          unpenalized_genes=params[\"unpenalized_genes\"])"
   ]
  },
  {
   "cell_type": "code",
   "execution_count": null,
   "metadata": {},
   "outputs": [],
   "source": [
    "residual_variance_genes = eutils.get_selected_genes(boot_results,\n",
    "                                                    adata,\n",
    "                                                    lambda_index=65,\n",
    "                                                    selection_threshold_index=90,\n",
    "                                                    thresholds=params[\"thresholds\"],\n",
    "                                                    unpenalized_genes=params[\"unpenalized_genes\"])"
   ]
  },
  {
   "cell_type": "code",
   "execution_count": null,
   "metadata": {},
   "outputs": [],
   "source": [
    "list(residual_variance_genes)"
   ]
  },
  {
   "cell_type": "code",
   "execution_count": null,
   "metadata": {},
   "outputs": [],
   "source": []
  }
 ],
 "metadata": {
  "kernelspec": {
   "display_name": "Python 3",
   "language": "python",
   "name": "python3"
  },
  "language_info": {
   "codemirror_mode": {
    "name": "ipython",
    "version": 3
   },
   "file_extension": ".py",
   "mimetype": "text/x-python",
   "name": "python",
   "nbconvert_exporter": "python",
   "pygments_lexer": "ipython3",
   "version": "3.6.7"
  }
 },
 "nbformat": 4,
 "nbformat_minor": 2
}
