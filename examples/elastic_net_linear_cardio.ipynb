{
 "cells": [
  {
   "cell_type": "code",
   "execution_count": null,
   "metadata": {},
   "outputs": [],
   "source": [
    "import numpy as np\n",
    "import pandas as pd\n",
    "import geneselection.solvers.elasticnet.linear as elin\n",
    "import geneselection.solvers.elasticnet.utils as eutils\n",
    "import geneselection.datasets.scrnaseq_cardio_20181129 as cardio"
   ]
  },
  {
   "cell_type": "code",
   "execution_count": null,
   "metadata": {},
   "outputs": [],
   "source": [
    "params = dict(days = \"all\",                                    # list of days to use (or \"all\")\n",
    "              X_noise = 0.01,                                  # gaussian noise added to scaled X\n",
    "              y_noise = 0.5,                                   # gaussian noise added to scaled y\n",
    "              day_offset = 0.1,                                # offest for close but similar days eg D24 vs D26\n",
    "              lambda_path = np.geomspace(1.0, 0.01, num=100),  # lambda path\n",
    "              alpha = 0.9,                                     # fraction of regularization devoted to L1 prenalty\n",
    "              n_bootstraps = 100,                              # number of bootstrap replicates\n",
    "              n_processes = 25,                                # number of parallel processes to use\n",
    "              thresholds = np.linspace(0.01,1,num=100))        # selection thresholds for including genes"
   ]
  },
  {
   "cell_type": "code",
   "execution_count": null,
   "metadata": {},
   "outputs": [],
   "source": [
    "adata = cardio.load()\n",
    "adata = eutils.preprocess_cardio(adata)\n",
    "adata = eutils.subset_cardio(adata, days=params[\"days\"])"
   ]
  },
  {
   "cell_type": "code",
   "execution_count": null,
   "metadata": {},
   "outputs": [],
   "source": [
    "boot_results = elin.parallel_runs(adata,\n",
    "                                  n_processes=params[\"n_processes\"],\n",
    "                                  n_bootstraps=params[\"n_bootstraps\"],\n",
    "                                  X_noise=params[\"X_noise\"],\n",
    "                                  y_noise=params[\"y_noise\"],\n",
    "                                  alpha=params[\"alpha\"],\n",
    "                                  lambda_path=params[\"lambda_path\"],\n",
    "                                  day_offset=params[\"day_offset\"])"
   ]
  },
  {
   "cell_type": "code",
   "execution_count": null,
   "metadata": {},
   "outputs": [],
   "source": [
    "eutils.thresh_lambda_plot(boot_results,\n",
    "                          adata,\n",
    "                          thresholds=params[\"thresholds\"],\n",
    "                          lambdas=params[\"lambda_path\"])"
   ]
  },
  {
   "cell_type": "code",
   "execution_count": null,
   "metadata": {},
   "outputs": [],
   "source": [
    "predictive_genes = eutils.get_selected_genes(boot_results,\n",
    "                                             adata,\n",
    "                                             lambda_index=65,\n",
    "                                             selection_threshold_index=90,\n",
    "                                             thresholds=params[\"thresholds\"])"
   ]
  },
  {
   "cell_type": "code",
   "execution_count": null,
   "metadata": {},
   "outputs": [],
   "source": [
    "predictive_genes"
   ]
  },
  {
   "cell_type": "code",
   "execution_count": null,
   "metadata": {},
   "outputs": [],
   "source": []
  }
 ],
 "metadata": {
  "kernelspec": {
   "display_name": "Python 3",
   "language": "python",
   "name": "python3"
  },
  "language_info": {
   "codemirror_mode": {
    "name": "ipython",
    "version": 3
   },
   "file_extension": ".py",
   "mimetype": "text/x-python",
   "name": "python",
   "nbconvert_exporter": "python",
   "pygments_lexer": "ipython3",
   "version": "3.6.7"
  }
 },
 "nbformat": 4,
 "nbformat_minor": 2
}
