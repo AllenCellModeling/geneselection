{
 "cells": [
  {
   "cell_type": "markdown",
   "metadata": {},
   "source": [
    "# End-to-end prediction of (synthetic) transcriptome from sparse genes"
   ]
  },
  {
   "cell_type": "markdown",
   "metadata": {},
   "source": [
    "## Imports"
   ]
  },
  {
   "cell_type": "code",
   "execution_count": null,
   "metadata": {},
   "outputs": [],
   "source": [
    "import numpy as np\n",
    "import pandas as pd\n",
    "\n",
    "from sklearn.decomposition import PCA\n",
    "from sklearn.metrics import classification_report\n",
    "from sklearn.linear_model import Ridge, LinearRegression\n",
    "from sklearn.preprocessing import scale\n",
    "\n",
    "from scipy.stats import pearsonr, spearmanr, kendalltau\n",
    "\n",
    "import geneselection.solvers.elasticnet.pca as epca\n",
    "import geneselection.solvers.elasticnet.utils as eutils\n",
    "from geneselection.datasets.correlated_random_variables import hub_spoke_data\n",
    "from geneselection.utils.data import tidy\n",
    "\n",
    "import altair as alt\n",
    "alt.data_transformers.enable(\"default\", max_rows=None)"
   ]
  },
  {
   "cell_type": "markdown",
   "metadata": {},
   "source": [
    "## Generate synthetic data"
   ]
  },
  {
   "cell_type": "code",
   "execution_count": null,
   "metadata": {},
   "outputs": [],
   "source": [
    "adata_all = hub_spoke_data(n_samples=20000,\n",
    "                           n_groups=100,\n",
    "                           group_size=50,\n",
    "                           n_singeltons=1500,\n",
    "                           diagonal_weight=1/np.e,\n",
    "                           off_diagonal_weight=1)\n",
    "adata_all.X = adata_all.X.astype(np.float64)\n",
    "adata_all.var.index = adata_all.var.index.astype(str)"
   ]
  },
  {
   "cell_type": "markdown",
   "metadata": {},
   "source": [
    "### Split off a train and test set"
   ]
  },
  {
   "cell_type": "code",
   "execution_count": null,
   "metadata": {},
   "outputs": [],
   "source": [
    "adata = adata_all[:15000,:].copy()\n",
    "adata_test = adata_all[15000:,:].copy()"
   ]
  },
  {
   "cell_type": "markdown",
   "metadata": {},
   "source": [
    "## Select predictive genes with elastic net PCA"
   ]
  },
  {
   "cell_type": "code",
   "execution_count": null,
   "metadata": {},
   "outputs": [],
   "source": [
    "pca = PCA(n_components=250, svd_solver=\"randomized\")\n",
    "pca.fit(adata.X)"
   ]
  },
  {
   "cell_type": "code",
   "execution_count": null,
   "metadata": {},
   "outputs": [],
   "source": [
    "df = pd.DataFrame(list(enumerate(pca.explained_variance_ratio_)))\n",
    "df.columns = [\"PC\", \"Explained Variance Ratio\"]\n",
    "\n",
    "alt.Chart(df).mark_point().encode(\n",
    "    x=\"PC\",\n",
    "    y=\"Explained Variance Ratio\",\n",
    ")"
   ]
  },
  {
   "cell_type": "markdown",
   "metadata": {},
   "source": [
    "### Parameters"
   ]
  },
  {
   "cell_type": "code",
   "execution_count": null,
   "metadata": {},
   "outputs": [],
   "source": [
    "params = dict(lambda_path = np.geomspace(1, 0.01, num=100),    # lambda path\n",
    "              alpha = 0.9,                                     # fraction of regularization devoted to L1 prenalty\n",
    "              n_pcs = 2,                                       # number of pcs to predit with multitask elastic net\n",
    "              pc_weights = \"scaled\",                           # relative importance in predicting pcs\n",
    "              n_bootstraps = 100,                              # number of bootstrap replicates\n",
    "              n_processes = 25,                                # number of parallel processes to use\n",
    "              thresholds = np.linspace(0.01, 1, num=100))      # selection thresholds for including genes"
   ]
  },
  {
   "cell_type": "markdown",
   "metadata": {},
   "source": [
    "### Run bootstrap replicates"
   ]
  },
  {
   "cell_type": "code",
   "execution_count": null,
   "metadata": {},
   "outputs": [],
   "source": [
    "results = epca.parallel_runs(adata,\n",
    "                             n_processes=params[\"n_processes\"],\n",
    "                             n_bootstraps=params[\"n_bootstraps\"],\n",
    "                             n_pcs=params[\"n_pcs\"],\n",
    "                             alpha=params[\"alpha\"],\n",
    "                             lambda_path=params[\"lambda_path\"],\n",
    "                             pc_weights=params[\"pc_weights\"])"
   ]
  },
  {
   "cell_type": "markdown",
   "metadata": {},
   "source": [
    "### Inspect results"
   ]
  },
  {
   "cell_type": "code",
   "execution_count": null,
   "metadata": {},
   "outputs": [],
   "source": [
    "eutils.thresh_lambda_plot(results,\n",
    "                          adata,\n",
    "                          thresholds=params[\"thresholds\"],\n",
    "                          lambdas=params[\"lambda_path\"])"
   ]
  },
  {
   "cell_type": "code",
   "execution_count": null,
   "metadata": {},
   "outputs": [],
   "source": [
    "eutils.hub_persistence_plot(adata, results)"
   ]
  },
  {
   "cell_type": "markdown",
   "metadata": {},
   "source": [
    "### Pick maximally informative sparse genes"
   ]
  },
  {
   "cell_type": "code",
   "execution_count": null,
   "metadata": {},
   "outputs": [],
   "source": [
    "predictive_genes = eutils.get_selected_genes(results,\n",
    "                                             adata,\n",
    "                                             lambda_index=70,\n",
    "                                             selection_threshold_index=70,\n",
    "                                             thresholds=params[\"thresholds\"])"
   ]
  },
  {
   "cell_type": "markdown",
   "metadata": {},
   "source": [
    "### see how well we selected genes"
   ]
  },
  {
   "cell_type": "code",
   "execution_count": null,
   "metadata": {},
   "outputs": [],
   "source": [
    "print(classification_report(np.array(adata.var[\"Type\"] == \"hub\"),\n",
    "                            np.isin(adata.var.index, predictive_genes)))"
   ]
  },
  {
   "cell_type": "markdown",
   "metadata": {},
   "source": [
    "### See how well we predict PCs using selected genes"
   ]
  },
  {
   "cell_type": "markdown",
   "metadata": {},
   "source": [
    "#### Fit pca to training data"
   ]
  },
  {
   "cell_type": "code",
   "execution_count": null,
   "metadata": {},
   "outputs": [],
   "source": [
    "pca = PCA(n_components=params[\"n_pcs\"], svd_solver=\"randomized\")\n",
    "pca.fit(adata.X)"
   ]
  },
  {
   "cell_type": "markdown",
   "metadata": {},
   "source": [
    "#### pcs are our targets to regress"
   ]
  },
  {
   "cell_type": "code",
   "execution_count": null,
   "metadata": {},
   "outputs": [],
   "source": [
    "y_train = pca.transform(adata.X)\n",
    "y_train = scale(y_train)"
   ]
  },
  {
   "cell_type": "markdown",
   "metadata": {},
   "source": [
    "#### regressors are the sparse genes"
   ]
  },
  {
   "cell_type": "code",
   "execution_count": null,
   "metadata": {},
   "outputs": [],
   "source": [
    "X_train = adata.X[:,predictive_genes.astype(int)]"
   ]
  },
  {
   "cell_type": "markdown",
   "metadata": {},
   "source": [
    "#### fit the regression"
   ]
  },
  {
   "cell_type": "code",
   "execution_count": null,
   "metadata": {},
   "outputs": [],
   "source": [
    "reg = LinearRegression()\n",
    "reg.fit(X_train, y_train)"
   ]
  },
  {
   "cell_type": "markdown",
   "metadata": {},
   "source": [
    "#### predict on the training data"
   ]
  },
  {
   "cell_type": "code",
   "execution_count": null,
   "metadata": {},
   "outputs": [],
   "source": [
    "y_pred_train = reg.predict(X_train)"
   ]
  },
  {
   "cell_type": "markdown",
   "metadata": {},
   "source": [
    "#### predict on the test and train data"
   ]
  },
  {
   "cell_type": "code",
   "execution_count": null,
   "metadata": {},
   "outputs": [],
   "source": [
    "y_test = pca.transform(adata_test.X)\n",
    "y_test = scale(y_test)\n",
    "\n",
    "X_test = adata_test.X[:,predictive_genes.astype(int)]\n",
    "y_pred_test = reg.predict(X_test)"
   ]
  },
  {
   "cell_type": "markdown",
   "metadata": {},
   "source": [
    "#### organize data"
   ]
  },
  {
   "cell_type": "code",
   "execution_count": null,
   "metadata": {},
   "outputs": [],
   "source": [
    "df_test_real = tidy(y_test).loc[:,1:]\n",
    "df_test_real.columns = [\"PC\", \"Real Value\"]\n",
    "df_test_real[\"PC\"] += 1\n",
    "\n",
    "df_test_pred = tidy(y_pred_test).loc[:,1:]\n",
    "df_test_pred.columns = [\"PC\", \"Predicted Value\"]\n",
    "df_test_pred[\"PC\"] += 1\n",
    "\n",
    "df_test = pd.concat([df_test_real, df_test_pred], axis=1)\n",
    "df_test = df_test.iloc[:,[0,1,3]]\n",
    "df_test[\"Split\"] = \"Test\"\n",
    "\n",
    "df_train_real = tidy(y_train).loc[:,1:]\n",
    "df_train_real.columns = [\"PC\", \"Real Value\"]\n",
    "df_train_real[\"PC\"] += 1\n",
    "\n",
    "df_train_pred = tidy(y_pred_train).loc[:,1:]\n",
    "df_train_pred.columns = [\"PC\", \"Predicted Value\"]\n",
    "df_train_pred[\"PC\"] += 1\n",
    "\n",
    "df_train = pd.concat([df_train_real, df_train_pred], axis=1)\n",
    "df_train = df_train.iloc[:,[0,1,3]]\n",
    "df_train[\"Split\"] = \"Train\"\n",
    "\n",
    "df_pc = pd.concat([df_test, df_train], ignore_index=True)"
   ]
  },
  {
   "cell_type": "code",
   "execution_count": null,
   "metadata": {},
   "outputs": [],
   "source": [
    "alt.Chart(df_pc, width=400, height=400).mark_circle(size=10).encode(\n",
    "    x='Real Value',\n",
    "    y='Predicted Value'\n",
    ").facet(\n",
    "    column='Split:N',\n",
    "    row='PC:N'\n",
    ")"
   ]
  },
  {
   "cell_type": "code",
   "execution_count": null,
   "metadata": {},
   "outputs": [],
   "source": [
    "print(pearsonr(y_test[:,0],y_pred_test[:,0])[0])\n",
    "print(pearsonr(y_test[:,1],y_pred_test[:,1])[0])"
   ]
  },
  {
   "cell_type": "markdown",
   "metadata": {},
   "source": [
    "## Model rest of genes using sparse gene set"
   ]
  },
  {
   "cell_type": "markdown",
   "metadata": {},
   "source": [
    "### Subsets of genes based on tyoe"
   ]
  },
  {
   "cell_type": "code",
   "execution_count": null,
   "metadata": {},
   "outputs": [],
   "source": [
    "hub_genes = np.array(adata.var[\"Type\"] == \"hub\")\n",
    "spoke_genes = np.array(adata.var[\"Type\"] == \"spoke\")\n",
    "singleton_genes = np.array(adata.var[\"Type\"] == \"singleton\")"
   ]
  },
  {
   "cell_type": "markdown",
   "metadata": {},
   "source": [
    "### Fit regression"
   ]
  },
  {
   "cell_type": "code",
   "execution_count": null,
   "metadata": {},
   "outputs": [],
   "source": [
    "ridge = Ridge(alpha=1.0, tol=0.00001)\n",
    "ridge.fit(X_train, adata.X)\n",
    "\n",
    "y_pred_all_train = ridge.predict(X_train)\n",
    "y_pred_all_test = ridge.predict(X_test)"
   ]
  },
  {
   "cell_type": "markdown",
   "metadata": {},
   "source": [
    "### Organize results"
   ]
  },
  {
   "cell_type": "code",
   "execution_count": null,
   "metadata": {},
   "outputs": [],
   "source": [
    "perf_train = np.array([pearsonr(y_pred_all_train[:,i], adata.X[:,i])[0] for i in range(adata.X.shape[1])])\n",
    "perf_test = np.array([pearsonr(y_pred_all_test[:,i], adata_test.X[:,i])[0] for i in range(adata_test.X.shape[1])])\n",
    "\n",
    "df_perf_train = adata.var.copy()\n",
    "df_perf_train[\"Pearson Correlation\"] = perf_train\n",
    "df_perf_train[\"Split\"] = \"Train\"\n",
    "\n",
    "df_perf_test = adata.var.copy()\n",
    "df_perf_test[\"Pearson Correlation\"] = perf_test\n",
    "df_perf_test[\"Split\"] = \"Test\"\n",
    "\n",
    "df_perf = pd.concat([df_perf_train, df_perf_test])\n",
    "\n",
    "df_perf_plot = df_perf.copy()\n",
    "df_perf_plot[\"Pearson Correlation\"] = df_perf_plot[\"Pearson Correlation\"] + 0.001*np.random.randn(len(df_perf_plot[\"Pearson Correlation\"]))"
   ]
  },
  {
   "cell_type": "markdown",
   "metadata": {},
   "source": [
    "### Correlation histogram"
   ]
  },
  {
   "cell_type": "code",
   "execution_count": null,
   "metadata": {},
   "outputs": [],
   "source": [
    "alt.Chart(df_perf_plot).mark_area(\n",
    "    opacity=0.5,\n",
    "    interpolate='step'\n",
    ").encode(\n",
    "    alt.X(\"Pearson Correlation\", bin=alt.Bin(maxbins=100), scale=alt.Scale(domain=[-0.1, 1.1])),\n",
    "    alt.Y('count()', stack=None),\n",
    "    alt.Color('Type')\n",
    ").facet(\n",
    "    column='Split:N'\n",
    ")"
   ]
  },
  {
   "cell_type": "markdown",
   "metadata": {},
   "source": [
    "### Correlation by gene index / type"
   ]
  },
  {
   "cell_type": "code",
   "execution_count": null,
   "metadata": {},
   "outputs": [],
   "source": [
    "df_perf_plot[\"Gene Index\"] = df_perf_plot.index.values\n",
    "\n",
    "alt.Chart(df_perf_plot).mark_point().encode(\n",
    "    x=\"Gene Index:Q\",\n",
    "    y=\"Pearson Correlation\",\n",
    "    color=\"Type\"\n",
    ").facet(\n",
    "    column='Split:N'\n",
    ")"
   ]
  },
  {
   "cell_type": "code",
   "execution_count": null,
   "metadata": {},
   "outputs": [],
   "source": []
  }
 ],
 "metadata": {
  "kernelspec": {
   "display_name": "Python 3",
   "language": "python",
   "name": "python3"
  },
  "language_info": {
   "codemirror_mode": {
    "name": "ipython",
    "version": 3
   },
   "file_extension": ".py",
   "mimetype": "text/x-python",
   "name": "python",
   "nbconvert_exporter": "python",
   "pygments_lexer": "ipython3",
   "version": "3.6.7"
  }
 },
 "nbformat": 4,
 "nbformat_minor": 2
}
