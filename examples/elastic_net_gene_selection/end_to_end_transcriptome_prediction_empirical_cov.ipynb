{
 "cells": [
  {
   "cell_type": "markdown",
   "metadata": {},
   "source": [
    "# End-to-end prediction of (synthetic) transcriptome from sparse genes"
   ]
  },
  {
   "cell_type": "markdown",
   "metadata": {},
   "source": [
    "## Imports"
   ]
  },
  {
   "cell_type": "code",
   "execution_count": null,
   "metadata": {},
   "outputs": [],
   "source": [
    "import numpy as np\n",
    "import pandas as pd\n",
    "import scanpy.api as sc\n",
    "\n",
    "from sklearn.decomposition import PCA\n",
    "from sklearn.metrics import classification_report\n",
    "from sklearn.linear_model import Ridge, LinearRegression\n",
    "from sklearn.preprocessing import scale\n",
    "\n",
    "from scipy.stats import pearsonr, spearmanr, kendalltau\n",
    "from statsmodels.stats.moment_helpers import cov2corr\n",
    "\n",
    "import geneselection.solvers.elasticnet.pca as epca\n",
    "import geneselection.solvers.elasticnet.utils as eutils\n",
    "from geneselection.datasets.correlated_random_variables import CorrelatedNormal\n",
    "import geneselection.datasets.scrnaseq_cardio_20181129 as cardio\n",
    "from geneselection.utils.data import tidy\n",
    "\n",
    "import altair as alt\n",
    "alt.data_transformers.enable(\"default\", max_rows=None)"
   ]
  },
  {
   "cell_type": "markdown",
   "metadata": {},
   "source": [
    "## Generate synthetic data with same covariance as cardio diff data"
   ]
  },
  {
   "cell_type": "code",
   "execution_count": null,
   "metadata": {},
   "outputs": [],
   "source": [
    "# adata_cardio = cardio.load()\n",
    "# adata_cardio = eutils.preprocess_cardio(adata_cardio)\n",
    "# adata_cardio = eutils.subset_cardio(adata_cardio, days=['D12', 'D14'])"
   ]
  },
  {
   "cell_type": "code",
   "execution_count": null,
   "metadata": {},
   "outputs": [],
   "source": [
    "# import torch\n",
    "# import torch.nn.functional as F\n",
    "\n",
    "# X = torch.from_numpy(adata_cardio.X.astype(np.float64))\n",
    "# X = X - X.mean(dim=0)\n",
    "# X = X.cuda(0)\n",
    "\n",
    "# c = torch.matmul(X.t(),X)\n",
    "# k = torch.diag(1/torch.sqrt(torch.diag(c)))\n",
    "# Sigma = k @ c @ k\n",
    "# Sigma = Sigma.cpu().numpy()"
   ]
  },
  {
   "cell_type": "code",
   "execution_count": null,
   "metadata": {},
   "outputs": [],
   "source": [
    "# correlated_normal = CorrelatedNormal(Sigma=Sigma)\n",
    "\n",
    "# adata_all = correlated_normal.sample(20000)\n",
    "# adata_all.X = adata_all.X.astype(np.float64)\n",
    "# adata_all.var.index = adata_cardio.var.index"
   ]
  },
  {
   "cell_type": "code",
   "execution_count": null,
   "metadata": {},
   "outputs": [],
   "source": [
    "# adata_all.write_h5ad(\"synthetic_data_empirical_cov_D12+D14.h5ad\")"
   ]
  },
  {
   "cell_type": "code",
   "execution_count": null,
   "metadata": {},
   "outputs": [],
   "source": [
    "adata_all = sc.read_h5ad(\"synthetic_data_empirical_cov_D12+D14.h5ad\")"
   ]
  },
  {
   "cell_type": "markdown",
   "metadata": {},
   "source": [
    "### Split off a train and test set"
   ]
  },
  {
   "cell_type": "code",
   "execution_count": null,
   "metadata": {},
   "outputs": [],
   "source": [
    "adata = adata_all[:15000,:].copy()\n",
    "adata_test = adata_all[15000:,:].copy()"
   ]
  },
  {
   "cell_type": "markdown",
   "metadata": {},
   "source": [
    "## Select predictive genes with elastic net PCA"
   ]
  },
  {
   "cell_type": "code",
   "execution_count": null,
   "metadata": {},
   "outputs": [],
   "source": [
    "pca = PCA(n_components=25, svd_solver=\"randomized\")\n",
    "pca.fit(adata.X)"
   ]
  },
  {
   "cell_type": "code",
   "execution_count": null,
   "metadata": {},
   "outputs": [],
   "source": [
    "df = pd.DataFrame(list(enumerate(pca.explained_variance_ratio_)))\n",
    "df.columns = [\"PC\", \"Explained Variance Ratio\"]\n",
    "\n",
    "alt.Chart(df).mark_point().encode(\n",
    "    x=alt.X(\"PC\"),\n",
    "    y=alt.Y(\"Explained Variance Ratio\", scale=alt.Scale(type='log')),\n",
    ")"
   ]
  },
  {
   "cell_type": "markdown",
   "metadata": {},
   "source": [
    "### Parameters"
   ]
  },
  {
   "cell_type": "code",
   "execution_count": null,
   "metadata": {},
   "outputs": [],
   "source": [
    "params = dict(lambda_path = np.geomspace(10, 0.01, num=100),   # lambda path\n",
    "              alpha = 0.9,                                     # fraction of regularization devoted to L1 prenalty\n",
    "              n_pcs = 5,                                       # number of pcs to predit with multitask elastic net\n",
    "              pc_weights = \"scaled\",                           # relative importance in predicting pcs\n",
    "              n_bootstraps = 100,                              # number of bootstrap replicates\n",
    "              n_processes = 25,                                # number of parallel processes to use\n",
    "              thresholds = np.linspace(0.01, 1, num=100))      # selection thresholds for including genes"
   ]
  },
  {
   "cell_type": "markdown",
   "metadata": {},
   "source": [
    "### Run bootstrap replicates"
   ]
  },
  {
   "cell_type": "code",
   "execution_count": null,
   "metadata": {},
   "outputs": [],
   "source": [
    "results = epca.parallel_runs(adata,\n",
    "                             n_processes=params[\"n_processes\"],\n",
    "                             n_bootstraps=params[\"n_bootstraps\"],\n",
    "                             n_pcs=params[\"n_pcs\"],\n",
    "                             alpha=params[\"alpha\"],\n",
    "                             lambda_path=params[\"lambda_path\"],\n",
    "                             pc_weights=params[\"pc_weights\"])"
   ]
  },
  {
   "cell_type": "markdown",
   "metadata": {},
   "source": [
    "### Inspect results"
   ]
  },
  {
   "cell_type": "code",
   "execution_count": null,
   "metadata": {},
   "outputs": [],
   "source": [
    "eutils.thresh_lambda_plot(results,\n",
    "                          adata,\n",
    "                          thresholds=params[\"thresholds\"],\n",
    "                          lambdas=params[\"lambda_path\"])"
   ]
  },
  {
   "cell_type": "code",
   "execution_count": null,
   "metadata": {},
   "outputs": [],
   "source": [
    "# eutils.hub_persistence_plot(adata, results)"
   ]
  },
  {
   "cell_type": "markdown",
   "metadata": {},
   "source": [
    "### Pick maximally informative sparse genes"
   ]
  },
  {
   "cell_type": "code",
   "execution_count": null,
   "metadata": {},
   "outputs": [],
   "source": [
    "predictive_genes = eutils.get_selected_genes(results,\n",
    "                                             adata,\n",
    "                                             lambda_index=50,\n",
    "                                             selection_threshold_index=90,\n",
    "                                             thresholds=params[\"thresholds\"])"
   ]
  },
  {
   "cell_type": "code",
   "execution_count": null,
   "metadata": {},
   "outputs": [],
   "source": [
    "len(predictive_genes)"
   ]
  },
  {
   "cell_type": "code",
   "execution_count": null,
   "metadata": {},
   "outputs": [],
   "source": [
    "predictive_genes = [p + \"_HUMAN\" for p in predictive_genes]\n",
    "# predictive_genes"
   ]
  },
  {
   "cell_type": "markdown",
   "metadata": {},
   "source": [
    "### See how well we predict PCs using selected genes"
   ]
  },
  {
   "cell_type": "markdown",
   "metadata": {},
   "source": [
    "#### Fit pca to training data"
   ]
  },
  {
   "cell_type": "code",
   "execution_count": null,
   "metadata": {},
   "outputs": [],
   "source": [
    "pca = PCA(n_components=params[\"n_pcs\"], svd_solver=\"randomized\")\n",
    "pca.fit(adata.X)"
   ]
  },
  {
   "cell_type": "markdown",
   "metadata": {},
   "source": [
    "#### pcs are our targets to regress"
   ]
  },
  {
   "cell_type": "code",
   "execution_count": null,
   "metadata": {},
   "outputs": [],
   "source": [
    "y_train = pca.transform(adata.X)\n",
    "y_train = scale(y_train)"
   ]
  },
  {
   "cell_type": "markdown",
   "metadata": {},
   "source": [
    "#### regressors are the sparse genes"
   ]
  },
  {
   "cell_type": "code",
   "execution_count": null,
   "metadata": {},
   "outputs": [],
   "source": [
    "X_train = adata[:,predictive_genes].X"
   ]
  },
  {
   "cell_type": "markdown",
   "metadata": {},
   "source": [
    "#### fit the regression"
   ]
  },
  {
   "cell_type": "code",
   "execution_count": null,
   "metadata": {},
   "outputs": [],
   "source": [
    "reg = LinearRegression()\n",
    "reg.fit(X_train, y_train)"
   ]
  },
  {
   "cell_type": "markdown",
   "metadata": {},
   "source": [
    "#### predict on the training data"
   ]
  },
  {
   "cell_type": "code",
   "execution_count": null,
   "metadata": {},
   "outputs": [],
   "source": [
    "y_pred_train = reg.predict(X_train)"
   ]
  },
  {
   "cell_type": "markdown",
   "metadata": {},
   "source": [
    "#### predict on the test and train data"
   ]
  },
  {
   "cell_type": "code",
   "execution_count": null,
   "metadata": {},
   "outputs": [],
   "source": [
    "y_test = pca.transform(adata_test.X)\n",
    "y_test = scale(y_test)\n",
    "\n",
    "X_test = adata_test[:,predictive_genes].X\n",
    "y_pred_test = reg.predict(X_test)"
   ]
  },
  {
   "cell_type": "markdown",
   "metadata": {},
   "source": [
    "#### organize data"
   ]
  },
  {
   "cell_type": "code",
   "execution_count": null,
   "metadata": {},
   "outputs": [],
   "source": [
    "df_test_real = tidy(y_test).loc[:,1:]\n",
    "df_test_real.columns = [\"PC\", \"Real Value\"]\n",
    "df_test_real[\"PC\"] += 1\n",
    "\n",
    "df_test_pred = tidy(y_pred_test).loc[:,1:]\n",
    "df_test_pred.columns = [\"PC\", \"Predicted Value\"]\n",
    "df_test_pred[\"PC\"] += 1\n",
    "\n",
    "df_test = pd.concat([df_test_real, df_test_pred], axis=1)\n",
    "df_test = df_test.iloc[:,[0,1,3]]\n",
    "df_test[\"Split\"] = \"Test\"\n",
    "\n",
    "df_train_real = tidy(y_train).loc[:,1:]\n",
    "df_train_real.columns = [\"PC\", \"Real Value\"]\n",
    "df_train_real[\"PC\"] += 1\n",
    "\n",
    "df_train_pred = tidy(y_pred_train).loc[:,1:]\n",
    "df_train_pred.columns = [\"PC\", \"Predicted Value\"]\n",
    "df_train_pred[\"PC\"] += 1\n",
    "\n",
    "df_train = pd.concat([df_train_real, df_train_pred], axis=1)\n",
    "df_train = df_train.iloc[:,[0,1,3]]\n",
    "df_train[\"Split\"] = \"Train\"\n",
    "\n",
    "df_pc = pd.concat([df_test, df_train], ignore_index=True)"
   ]
  },
  {
   "cell_type": "code",
   "execution_count": null,
   "metadata": {},
   "outputs": [],
   "source": [
    "alt.Chart(df_pc[df_pc[\"PC\"] <= 4].sample(10000), width=200, height=200).mark_circle(size=10).encode(\n",
    "    x='Real Value',\n",
    "    y='Predicted Value'\n",
    ").facet(\n",
    "    column='Split:N',\n",
    "    row='PC:N'\n",
    ")"
   ]
  },
  {
   "cell_type": "code",
   "execution_count": null,
   "metadata": {},
   "outputs": [],
   "source": [
    "for i in sorted(df_pc.PC.unique()):\n",
    "    print(i, pearsonr(y_test[:,i-1],y_pred_test[:,i-1])[0])"
   ]
  },
  {
   "cell_type": "markdown",
   "metadata": {},
   "source": [
    "## Model rest of genes using sparse gene set"
   ]
  },
  {
   "cell_type": "markdown",
   "metadata": {},
   "source": [
    "### Subsets of to predict"
   ]
  },
  {
   "cell_type": "code",
   "execution_count": null,
   "metadata": {},
   "outputs": [],
   "source": [
    "target_genes = np.array([g for g in adata.var.index if g not in predictive_genes])"
   ]
  },
  {
   "cell_type": "markdown",
   "metadata": {},
   "source": [
    "### Fit regression"
   ]
  },
  {
   "cell_type": "code",
   "execution_count": null,
   "metadata": {},
   "outputs": [],
   "source": [
    "y_train = adata[:,target_genes].X\n",
    "y_test = adata_test[:,target_genes].X"
   ]
  },
  {
   "cell_type": "code",
   "execution_count": null,
   "metadata": {},
   "outputs": [],
   "source": [
    "ridge = Ridge(alpha=1.0, tol=0.00001)\n",
    "ridge.fit(X_train, y_train)\n",
    "\n",
    "y_pred_all_train = ridge.predict(X_train)\n",
    "y_pred_all_test = ridge.predict(X_test)"
   ]
  },
  {
   "cell_type": "markdown",
   "metadata": {},
   "source": [
    "### Organize results"
   ]
  },
  {
   "cell_type": "code",
   "execution_count": null,
   "metadata": {},
   "outputs": [],
   "source": [
    "perf_train = np.array([pearsonr(y_pred_all_train[:,i], y_train[:,i])[0] for i in range(y_train.shape[1])])\n",
    "perf_test = np.array([pearsonr(y_pred_all_test[:,i], y_test[:,i])[0] for i in range(y_test.shape[1])])\n",
    "\n",
    "df_perf_train = adata[:,target_genes].var.copy()\n",
    "df_perf_train[\"Pearson Correlation\"] = perf_train\n",
    "df_perf_train[\"Split\"] = \"Train\"\n",
    "\n",
    "df_perf_test = adata[:,target_genes].var.copy()\n",
    "df_perf_test[\"Pearson Correlation\"] = perf_test\n",
    "df_perf_test[\"Split\"] = \"Test\"\n",
    "\n",
    "df_perf = pd.concat([df_perf_train, df_perf_test])"
   ]
  },
  {
   "cell_type": "markdown",
   "metadata": {},
   "source": [
    "### Correlation histogram"
   ]
  },
  {
   "cell_type": "code",
   "execution_count": null,
   "metadata": {},
   "outputs": [],
   "source": [
    "alt.Chart(df_perf, height=300, width=400).mark_area(\n",
    "    opacity=0.5,\n",
    "    interpolate=\"step\"\n",
    ").encode(\n",
    "    alt.X(\"Pearson Correlation\", bin=alt.Bin(maxbins=100), scale=alt.Scale(domain=[0, 1])),\n",
    "    alt.Y(\"count()\", stack=None),\n",
    ").facet(\n",
    "    column=\"Split\"\n",
    ")"
   ]
  },
  {
   "cell_type": "markdown",
   "metadata": {},
   "source": [
    "### See how well imputed genes recapitulate pcs"
   ]
  },
  {
   "cell_type": "code",
   "execution_count": null,
   "metadata": {},
   "outputs": [],
   "source": [
    "pca_targ_genes = PCA(n_components=params[\"n_pcs\"], svd_solver=\"randomized\")\n",
    "pca_targ_genes.fit(y_train)"
   ]
  },
  {
   "cell_type": "code",
   "execution_count": null,
   "metadata": {},
   "outputs": [],
   "source": [
    "pcs_targ_genes_train = pca_targ_genes.transform(y_train)\n",
    "pcs_targ_genes_train = scale(pcs_targ_genes_train)\n",
    "pcs_targ_genes_test = pca_targ_genes.transform(y_test)\n",
    "pcs_targ_genes_test = scale(pcs_targ_genes_test)\n",
    "\n",
    "pcs_targ_genes_train_imputed = pca_targ_genes.transform(y_pred_all_train)\n",
    "pcs_targ_genes_train_imputed = scale(pcs_targ_genes_train_imputed)\n",
    "pcs_targ_genes_test_imputed = pca_targ_genes.transform(y_pred_all_test)\n",
    "pcs_targ_genes_test_imputed = scale(pcs_targ_genes_test_imputed)"
   ]
  },
  {
   "cell_type": "code",
   "execution_count": null,
   "metadata": {},
   "outputs": [],
   "source": [
    "df_test_real = tidy(pcs_targ_genes_test).loc[:,1:]\n",
    "df_test_real.columns = [\"PC\", \"Real Value\"]\n",
    "df_test_real[\"PC\"] += 1\n",
    "\n",
    "df_test_pred = tidy(pcs_targ_genes_test_imputed).loc[:,1:]\n",
    "df_test_pred.columns = [\"PC\", \"Predicted Value\"]\n",
    "df_test_pred[\"PC\"] += 1\n",
    "\n",
    "df_test = pd.concat([df_test_real, df_test_pred], axis=1)\n",
    "df_test = df_test.iloc[:,[0,1,3]]\n",
    "df_test[\"Split\"] = \"Test\"\n",
    "\n",
    "df_train_real = tidy(pcs_targ_genes_train).loc[:,1:]\n",
    "df_train_real.columns = [\"PC\", \"Real Value\"]\n",
    "df_train_real[\"PC\"] += 1\n",
    "\n",
    "df_train_pred = tidy(pcs_targ_genes_train_imputed).loc[:,1:]\n",
    "df_train_pred.columns = [\"PC\", \"Predicted Value\"]\n",
    "df_train_pred[\"PC\"] += 1\n",
    "\n",
    "df_train = pd.concat([df_train_real, df_train_pred], axis=1)\n",
    "df_train = df_train.iloc[:,[0,1,3]]\n",
    "df_train[\"Split\"] = \"Train\"\n",
    "\n",
    "df_pc_imp = pd.concat([df_test, df_train], ignore_index=True)"
   ]
  },
  {
   "cell_type": "code",
   "execution_count": null,
   "metadata": {},
   "outputs": [],
   "source": [
    "alt.Chart(df_pc_imp[df_pc_imp[\"PC\"] <= 4].sample(10000), width=200, height=200).mark_circle(size=10).encode(\n",
    "    x='Real Value',\n",
    "    y='Predicted Value'\n",
    ").facet(\n",
    "    column='Split:N',\n",
    "    row='PC:N',\n",
    ")"
   ]
  },
  {
   "cell_type": "code",
   "execution_count": null,
   "metadata": {},
   "outputs": [],
   "source": [
    "for i in sorted(df_pc_imp.PC.unique()):\n",
    "    print(i, pearsonr(pcs_targ_genes_test[:,i-1],pcs_targ_genes_test_imputed[:,i-1])[0])"
   ]
  },
  {
   "cell_type": "markdown",
   "metadata": {},
   "source": [
    "### Use random subsets of genes = predictors as baseline"
   ]
  },
  {
   "cell_type": "code",
   "execution_count": null,
   "metadata": {},
   "outputs": [],
   "source": [
    "N_trials = 101\n",
    "test_results_random = np.zeros([len(adata.var) - len(predictive_genes), N_trials])\n",
    "train_results_random = np.zeros([len(adata.var) - len(predictive_genes), N_trials])\n",
    "\n",
    "for i in tqdm(range(N_trials)):\n",
    "    predictive_genes_random = np.random.choice(adata.var.index, len(predictive_genes), replace=False)\n",
    "    target_genes_random = np.array([g for g in adata.var.index if g not in predictive_genes_random])\n",
    "\n",
    "    X_train_random = adata[:,predictive_genes_random].X\n",
    "    X_test_random = adata_test[:,predictive_genes_random].X\n",
    "    y_train_random = adata[:,target_genes_random].X\n",
    "    y_test_random = adata_test[:,target_genes_random].X\n",
    "\n",
    "    ridge = Ridge(alpha=1.0, tol=0.00001)\n",
    "    ridge.fit(X_train_random, y_train_random)\n",
    "\n",
    "    y_pred_all_train_random = ridge.predict(X_train_random)\n",
    "    y_pred_all_test_random = ridge.predict(X_test_random)\n",
    "\n",
    "    perf_train_random = np.array([pearsonr(y_pred_all_train_random[:,i], y_train_random[:,i])[0] for i in range(y_train_random.shape[1])])\n",
    "    perf_test_random = np.array([pearsonr(y_pred_all_test_random[:,i], y_test_random[:,i])[0] for i in range(y_test_random.shape[1])])\n",
    "    \n",
    "    test_results_random[:,i] = perf_test_random\n",
    "    train_results_random[:,i] = perf_train_random"
   ]
  },
  {
   "cell_type": "code",
   "execution_count": null,
   "metadata": {},
   "outputs": [],
   "source": [
    "df_random_train = pd.DataFrame({\"Median Random\":np.median(train_results_random, axis=1), \"Elastic Net\":perf_train})\n",
    "df_random_train[\"Split\"] = \"Train\"\n",
    "df_random_test = pd.DataFrame({\"Median Random\":np.median(test_results_random, axis=1), \"Elastic Net\":perf_test})\n",
    "df_random_test[\"Split\"] = \"Test\"\n",
    "df_random_test\n",
    "df_random = pd.concat([df_random_train, df_random_test])"
   ]
  },
  {
   "cell_type": "code",
   "execution_count": null,
   "metadata": {},
   "outputs": [],
   "source": [
    "alt.Chart(df_random, width=400, height=400).mark_circle(size=10, opacity=0.25).encode(\n",
    "    x=alt.X('Median Random', scale=alt.Scale(domain=[0, 1])),\n",
    "    y=alt.Y('Elastic Net', scale=alt.Scale(domain=[0, 1]))\n",
    ").facet(\n",
    "    column='Split:N'\n",
    ")"
   ]
  },
  {
   "cell_type": "code",
   "execution_count": null,
   "metadata": {},
   "outputs": [],
   "source": [
    "df_random[\"Improvement Ratio\"] = (df_random[\"Elastic Net\"] - df_random[\"Median Random\"])/df_random[\"Median Random\"]"
   ]
  },
  {
   "cell_type": "code",
   "execution_count": null,
   "metadata": {},
   "outputs": [],
   "source": [
    "alt.Chart(df_random, height=300, width=400).mark_area(\n",
    "    opacity=0.5,\n",
    "    interpolate=\"step\"\n",
    ").encode(\n",
    "    alt.X(\"Improvement Ratio\", bin=alt.Bin(maxbins=100), scale=alt.Scale(domain=[-1, 4])),\n",
    "    alt.Y(\"count()\", stack=None),\n",
    ").facet(\n",
    "    column=\"Split\"\n",
    ")"
   ]
  },
  {
   "cell_type": "code",
   "execution_count": null,
   "metadata": {},
   "outputs": [],
   "source": [
    "np.mean(df_random[df_random[\"Split\"] == \"Test\"][\"Improvement Ratio\"])"
   ]
  },
  {
   "cell_type": "code",
   "execution_count": null,
   "metadata": {},
   "outputs": [],
   "source": [
    "np.median(df_random[df_random[\"Split\"] == \"Test\"][\"Improvement Ratio\"])"
   ]
  },
  {
   "cell_type": "markdown",
   "metadata": {},
   "source": [
    "### Reconstruct PCs from imputed genes and compare to both predicted and real"
   ]
  },
  {
   "cell_type": "code",
   "execution_count": null,
   "metadata": {},
   "outputs": [],
   "source": [
    "y_pred_all_test_random.shape"
   ]
  },
  {
   "cell_type": "code",
   "execution_count": null,
   "metadata": {},
   "outputs": [],
   "source": [
    "y_test.shape"
   ]
  },
  {
   "cell_type": "code",
   "execution_count": null,
   "metadata": {},
   "outputs": [],
   "source": []
  }
 ],
 "metadata": {
  "kernelspec": {
   "display_name": "Python 3",
   "language": "python",
   "name": "python3"
  },
  "language_info": {
   "codemirror_mode": {
    "name": "ipython",
    "version": 3
   },
   "file_extension": ".py",
   "mimetype": "text/x-python",
   "name": "python",
   "nbconvert_exporter": "python",
   "pygments_lexer": "ipython3",
   "version": "3.6.7"
  }
 },
 "nbformat": 4,
 "nbformat_minor": 2
}
